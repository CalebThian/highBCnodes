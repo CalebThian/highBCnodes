{
 "cells": [
  {
   "cell_type": "code",
   "execution_count": 2,
   "id": "a6535000",
   "metadata": {},
   "outputs": [
    {
     "name": "stderr",
     "output_type": "stream",
     "text": [
      "C:\\Users\\caleb\\anaconda3\\envs\\pytorch\\lib\\site-packages\\tqdm\\auto.py:21: TqdmWarning: IProgress not found. Please update jupyter and ipywidgets. See https://ipywidgets.readthedocs.io/en/stable/user_install.html\n",
      "  from .autonotebook import tqdm as notebook_tqdm\n"
     ]
    }
   ],
   "source": [
    "import os\n",
    "import torch\n",
    "import math\n",
    "import numpy as np"
   ]
  },
  {
   "cell_type": "code",
   "execution_count": 3,
   "id": "8fbf5559",
   "metadata": {},
   "outputs": [],
   "source": [
    "# Input data\n",
    "dpath = \".\\\\data\\\\\"\n",
    "gList = dict()\n",
    "filenames = []\n",
    "\n",
    "for root, dirs, files in os.walk(dpath):\n",
    "    for file in files:\n",
    "        file_path = os.path.join(root, file)\n",
    "        if 'score' in file and \"top\" not in file: # Ignore Kadabra output\n",
    "            filenames.append(file)\n",
    "            gList[file] = dict()\n",
    "            file_path = os.path.join(root,file) \n",
    "            with open(file_path,'r') as f:\n",
    "                content = f.readlines()\n",
    "                for line in content:\n",
    "                    if 'com' not in file:\n",
    "                        node_score = line[:-1].split('\\t')\n",
    "                    else:\n",
    "                        continue # after finish all code run code with com\n",
    "                        node_score = line[:-1].split(\" \")\n",
    "                    gList[file][int(node_score[0])] = float(node_score[1])"
   ]
  },
  {
   "cell_type": "code",
   "execution_count": 4,
   "id": "31df24de",
   "metadata": {},
   "outputs": [
    {
     "data": {
      "text/plain": [
       "tensor([0, 5, 4, 1, 6])"
      ]
     },
     "execution_count": 4,
     "metadata": {},
     "output_type": "execute_result"
    }
   ],
   "source": [
    "y = torch.tensor([list(gList['0_score.txt'].values())])\n",
    "gt = torch.transpose(y,0,1)\n",
    "_,gt_top = torch.topk(gt.view(-1),k=5)\n",
    "gt_top"
   ]
  },
  {
   "cell_type": "code",
   "execution_count": 5,
   "id": "6b8bf66d",
   "metadata": {},
   "outputs": [],
   "source": [
    "kadabra = \".\\\\data\\\\\"\n",
    "kgList = dict()\n",
    "kfilenames = []\n",
    "for root, dirs, files in os.walk(dpath):\n",
    "    for file in files:\n",
    "        file_path = os.path.join(root, file)\n",
    "        if \"top\" in file: # Only consider kadabra output\n",
    "            if \"com\" in file: # Ignore com first\n",
    "                continue\n",
    "            kfilenames.append(file)\n",
    "            kgList[file] = dict()\n",
    "            kgList[file]['top'] = []\n",
    "\n",
    "            file_path = os.path.join(root,file) \n",
    "            with open(file_path,'r') as f:\n",
    "                content = f.readlines()\n",
    "                kgList[file]['time'] = float(content[7][:-1].split()[2])\n",
    "                for i in range(500):\n",
    "                    if content[12+i][:-1].split()[0] != '?':\n",
    "                        kgList[file]['top'].append(int(content[12+i][:-1].split()[1]))\n",
    "                    else:\n",
    "                        kgList[file]['top'].append(int(content[12+i][:-1].split()[2]))\n",
    "                    "
   ]
  },
  {
   "cell_type": "code",
   "execution_count": 6,
   "id": "38af7c09",
   "metadata": {},
   "outputs": [],
   "source": [
    "def topN(n,pred,gt):\n",
    "    k = math.ceil(gt.size()[0]*10*n/100)\n",
    "    pred_top = pred[:k]\n",
    "    _,gt_top = torch.topk(gt.view(-1),k=k)\n",
    "    intersect = torch.unique(torch.cat((pred_top,gt_top),0))\n",
    "    acc = (2*k-len(intersect))/k\n",
    "    return acc"
   ]
  },
  {
   "cell_type": "code",
   "execution_count": 13,
   "id": "b7590df5",
   "metadata": {},
   "outputs": [
    {
     "name": "stdout",
     "output_type": "stream",
     "text": [
      "0_score.txt vs. 0_score_top500.txt: top-1% = 0.91,top-5% = 1.00,top-10% = 1.00,time = 0.06\n",
      "1_score.txt vs. 1_score_top500.txt: top-1% = 0.60,top-5% = 0.99,top-10% = 1.00,time = 0.08\n",
      "2_score.txt vs. 2_score_top500.txt: top-1% = 0.60,top-5% = 0.99,top-10% = 1.00,time = 0.09\n",
      "3_score.txt vs. 3_score_top500.txt: top-1% = 0.56,top-5% = 0.99,top-10% = 1.00,time = 0.08\n",
      "4_score.txt vs. 4_score_top500.txt: top-1% = 0.59,top-5% = 0.99,top-10% = 1.00,time = 0.08\n",
      "5_score.txt vs. 5_score_top500.txt: top-1% = 0.57,top-5% = 0.99,top-10% = 1.00,time = 0.08\n",
      "6_score.txt vs. 6_score_top500.txt: top-1% = 0.57,top-5% = 0.99,top-10% = 1.00,time = 0.05\n",
      "7_score.txt vs. 7_score_top500.txt: top-1% = 0.58,top-5% = 0.99,top-10% = 1.00,time = 0.08\n",
      "8_score.txt vs. 8_score_top500.txt: top-1% = 0.58,top-5% = 0.99,top-10% = 1.00,time = 0.06\n",
      "9_score.txt vs. 9_score_top500.txt: top-1% = 0.59,top-5% = 0.99,top-10% = 1.00,time = 0.06\n",
      "10_score.txt vs. 10_score_top500.txt: top-1% = 0.60,top-5% = 0.99,top-10% = 1.00,time = 0.04\n",
      "11_score.txt vs. 11_score_top500.txt: top-1% = 0.57,top-5% = 0.99,top-10% = 1.00,time = 0.05\n",
      "12_score.txt vs. 12_score_top500.txt: top-1% = 0.60,top-5% = 1.00,top-10% = 1.00,time = 0.07\n",
      "13_score.txt vs. 13_score_top500.txt: top-1% = 0.59,top-5% = 0.99,top-10% = 1.00,time = 0.09\n",
      "14_score.txt vs. 14_score_top500.txt: top-1% = 0.58,top-5% = 0.99,top-10% = 1.00,time = 0.08\n",
      "15_score.txt vs. 15_score_top500.txt: top-1% = 0.60,top-5% = 0.99,top-10% = 1.00,time = 0.07\n",
      "16_score.txt vs. 16_score_top500.txt: top-1% = 0.59,top-5% = 0.99,top-10% = 1.00,time = 0.04\n",
      "17_score.txt vs. 17_score_top500.txt: top-1% = 0.59,top-5% = 0.99,top-10% = 1.00,time = 0.06\n",
      "18_score.txt vs. 18_score_top500.txt: top-1% = 0.60,top-5% = 0.99,top-10% = 1.00,time = 0.09\n",
      "19_score.txt vs. 19_score_top500.txt: top-1% = 0.57,top-5% = 0.99,top-10% = 1.00,time = 0.09\n",
      "20_score.txt vs. 20_score_top500.txt: top-1% = 0.59,top-5% = 0.99,top-10% = 1.00,time = 0.08\n",
      "21_score.txt vs. 21_score_top500.txt: top-1% = 0.56,top-5% = 0.99,top-10% = 1.00,time = 0.05\n",
      "22_score.txt vs. 22_score_top500.txt: top-1% = 0.59,top-5% = 0.99,top-10% = 1.00,time = 0.04\n",
      "23_score.txt vs. 23_score_top500.txt: top-1% = 0.57,top-5% = 0.99,top-10% = 1.00,time = 0.05\n",
      "24_score.txt vs. 24_score_top500.txt: top-1% = 0.59,top-5% = 0.99,top-10% = 1.00,time = 0.04\n",
      "25_score.txt vs. 25_score_top500.txt: top-1% = 0.57,top-5% = 0.99,top-10% = 1.00,time = 0.06\n",
      "26_score.txt vs. 26_score_top500.txt: top-1% = 0.60,top-5% = 0.99,top-10% = 1.00,time = 0.06\n",
      "27_score.txt vs. 27_score_top500.txt: top-1% = 0.59,top-5% = 0.99,top-10% = 1.00,time = 0.05\n",
      "28_score.txt vs. 28_score_top500.txt: top-1% = 0.59,top-5% = 0.99,top-10% = 1.00,time = 0.08\n",
      "29_score.txt vs. 29_score_top500.txt: top-1% = 0.58,top-5% = 0.99,top-10% = 1.00,time = 0.08\n"
     ]
    }
   ],
   "source": [
    "acc1_list = []\n",
    "acc5_list = []\n",
    "acc10_list = []\n",
    "time_list = []\n",
    "for i in range(30):\n",
    "    f1 = str(i)+'_score.txt'\n",
    "    f2 = str(i)+\"_score_top500.txt\"\n",
    "    gt = torch.tensor([list(gList[f1].values())])\n",
    "    gt = torch.transpose(y,0,1)\n",
    "    pred = torch.tensor(kgList[f2]['top'])\n",
    "    acc1 = topN(1,pred,gt)\n",
    "    acc5 = topN(5,pred,gt)\n",
    "    acc10 = topN(10,pred,gt)\n",
    "    acc1_list.append(acc1)\n",
    "    acc5_list.append(acc5)\n",
    "    acc10_list.append(acc10)\n",
    "    time_list.append(kgList[f2]['time'])\n",
    "    print(\"{} vs. {}: top-1% = {:.2f},top-5% = {:.2f},top-10% = {:.2f},time = {:.2f}\".format(f1,f2,acc1,acc5,acc10,kgList[f2]['time']))"
   ]
  },
  {
   "cell_type": "code",
   "execution_count": 14,
   "id": "b7806645",
   "metadata": {},
   "outputs": [
    {
     "name": "stdout",
     "output_type": "stream",
     "text": [
      "Top-1% accuracy:0.60±0.06\n",
      "Top-5% accuracy:0.99±0.00\n",
      "Top-10% accuracy:1.00±0.00\n",
      "Time:0.07±0.02\n"
     ]
    }
   ],
   "source": [
    "print(\"Top-1% accuracy:{:.2f}±{:.2f}\".format(np.mean(acc1_list),np.std(np.array(acc1_list))))\n",
    "print(\"Top-5% accuracy:{:.2f}±{:.2f}\".format(np.mean(acc5_list),np.std(np.array(acc5_list))))\n",
    "print(\"Top-10% accuracy:{:.2f}±{:.2f}\".format(np.mean(acc10_list),np.std(np.array(acc10_list))))\n",
    "print(\"Time:{:.2f}±{:.2f}\".format(np.mean(time_list),np.std(np.array(time_list))))"
   ]
  },
  {
   "cell_type": "code",
   "execution_count": 16,
   "id": "f21eb739",
   "metadata": {},
   "outputs": [],
   "source": [
    "# Working on com\n",
    "file_path = \".\\\\data\\\\youtube\\\\com-youtube_score.txt\"\n",
    "file = \"com-youtube_score.txt\"\n",
    "with open(file_path,'r') as f:\n",
    "    content = f.readlines()\n",
    "    for line in content:\n",
    "        node_score = line[:-1].split()\n",
    "    gList[file][int(node_score[0][:-1])] = float(node_score[1])"
   ]
  },
  {
   "cell_type": "code",
   "execution_count": 17,
   "id": "96632022",
   "metadata": {},
   "outputs": [],
   "source": [
    "file_path = \".\\\\data\\\\youtube\\\\com-youtube_score_top113489.txt\"\n",
    "file = \"com-youtube_score_top113489.txt\"\n",
    "with open(file_path,'r') as f:\n",
    "    content = f.readlines()\n",
    "    kgList[file] = dict()\n",
    "    kgList[file]['top'] = []\n",
    "    kgList[file]['time'] = float(content[7][:-1].split()[2])\n",
    "    for i in range(113489):\n",
    "        if content[12+i][:-1].split()[0] != '?':\n",
    "            kgList[file]['top'].append(int(content[12+i][:-1].split()[1]))\n",
    "        else:\n",
    "            kgList[file]['top'].append(int(content[12+i][:-1].split()[2]))"
   ]
  },
  {
   "cell_type": "code",
   "execution_count": 19,
   "id": "476782d2",
   "metadata": {},
   "outputs": [
    {
     "name": "stdout",
     "output_type": "stream",
     "text": [
      "com-youtube_score.txt vs. com-youtube_score_top113489.txt: top-1% = 0.17,top-5% = 0.13,top-10% = 0.12,time = 5.00\n"
     ]
    }
   ],
   "source": [
    "f1 = 'com-youtube_score.txt'\n",
    "f2 = \"com-youtube_score_top113489.txt\"\n",
    "gt = torch.tensor([list(gList[f1].values())])\n",
    "gt = torch.transpose(y,0,1)\n",
    "pred = torch.tensor(kgList[f2]['top'])\n",
    "acc1 = topN(1,pred,gt)\n",
    "acc5 = topN(5,pred,gt)\n",
    "acc10 = topN(10,pred,gt)\n",
    "time = kgList[f2]['time']\n",
    "print(\"{} vs. {}: top-1% = {:.2f},top-5% = {:.2f},top-10% = {:.2f},time = {:.2f}\".format(f1,f2,acc1,acc5,acc10,time))"
   ]
  }
 ],
 "metadata": {
  "kernelspec": {
   "display_name": "Python 3 (ipykernel)",
   "language": "python",
   "name": "python3"
  },
  "language_info": {
   "codemirror_mode": {
    "name": "ipython",
    "version": 3
   },
   "file_extension": ".py",
   "mimetype": "text/x-python",
   "name": "python",
   "nbconvert_exporter": "python",
   "pygments_lexer": "ipython3",
   "version": "3.7.16"
  }
 },
 "nbformat": 4,
 "nbformat_minor": 5
}
