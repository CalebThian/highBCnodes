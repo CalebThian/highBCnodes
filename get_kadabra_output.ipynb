{
 "cells": [
  {
   "cell_type": "code",
   "execution_count": 76,
   "id": "a6535000",
   "metadata": {},
   "outputs": [],
   "source": [
    "import os\n",
    "import torch\n",
    "import math\n",
    "import numpy as np"
   ]
  },
  {
   "cell_type": "code",
   "execution_count": 77,
   "id": "8fbf5559",
   "metadata": {},
   "outputs": [],
   "source": [
    "# Input data\n",
    "dpath = \".\\\\data\\\\\"\n",
    "gList = dict()\n",
    "filenames = []\n",
    "\n",
    "for root, dirs, files in os.walk(dpath):\n",
    "    for file in files:\n",
    "        file_path = os.path.join(root, file)\n",
    "        if 'score' in file and \"top\" not in file: # Ignore Kadabra output\n",
    "            filenames.append(file)\n",
    "            gList[file] = dict()\n",
    "            file_path = os.path.join(root,file) \n",
    "            with open(file_path,'r') as f:\n",
    "                content = f.readlines()\n",
    "                for line in content:\n",
    "                    if 'com' not in file:\n",
    "                        node_score = line[:-1].split('\\t')\n",
    "                    else:\n",
    "                        continue # after finish all code run code with com\n",
    "                        node_score = line[:-1].split(\" \")\n",
    "                    gList[file][int(node_score[0])] = float(node_score[1])"
   ]
  },
  {
   "cell_type": "code",
   "execution_count": 78,
   "id": "31df24de",
   "metadata": {},
   "outputs": [
    {
     "data": {
      "text/plain": [
       "tensor([0, 5, 4, 1, 6])"
      ]
     },
     "execution_count": 78,
     "metadata": {},
     "output_type": "execute_result"
    }
   ],
   "source": [
    "y = torch.tensor([list(gList['0_score.txt'].values())])\n",
    "gt = torch.transpose(y,0,1)\n",
    "_,gt_top = torch.topk(gt.view(-1),k=5)\n",
    "gt_top"
   ]
  },
  {
   "cell_type": "code",
   "execution_count": 82,
   "id": "6b8bf66d",
   "metadata": {},
   "outputs": [],
   "source": [
    "kadabra = \".\\\\data\\\\\"\n",
    "kgList = dict()\n",
    "kfilenames = []\n",
    "for root, dirs, files in os.walk(dpath):\n",
    "    for file in files:\n",
    "        file_path = os.path.join(root, file)\n",
    "        if \"top\" in file: # Only consider kadabra output\n",
    "            if \"com\" in file: # Ignore com first\n",
    "                continue\n",
    "            kfilenames.append(file)\n",
    "            kgList[file] = dict()\n",
    "            kgList[file]['top'] = []\n",
    "\n",
    "            file_path = os.path.join(root,file) \n",
    "            with open(file_path,'r') as f:\n",
    "                content = f.readlines()\n",
    "                kgList[file]['time'] = float(content[7][:-1].split()[2])\n",
    "                for i in range(500):\n",
    "                    if content[12+i][:-1].split()[0] != '?':\n",
    "                        kgList[file]['top'].append(int(content[12+i][:-1].split()[1]))\n",
    "                    else:\n",
    "                        kgList[file]['top'].append(int(content[12+i][:-1].split()[2]))\n",
    "                    "
   ]
  },
  {
   "cell_type": "code",
   "execution_count": 100,
   "id": "38af7c09",
   "metadata": {},
   "outputs": [],
   "source": [
    "def topN(n,pred,gt):\n",
    "    k = math.ceil(gt.size()[0]*10*n/100)\n",
    "    pred_top = pred[:k]\n",
    "    _,gt_top = torch.topk(gt.view(-1),k=k)\n",
    "    intersect = torch.unique(torch.cat((pred_top,gt_top),0))\n",
    "    acc = (2*k-len(intersect))/k\n",
    "    return acc"
   ]
  },
  {
   "cell_type": "code",
   "execution_count": 105,
   "id": "b7590df5",
   "metadata": {},
   "outputs": [
    {
     "name": "stdout",
     "output_type": "stream",
     "text": [
      "0_score.txt vs. 0_score_top500.txt: top1 = 0.988\n",
      "1_score.txt vs. 1_score_top500.txt: top1 = 0.602\n",
      "2_score.txt vs. 2_score_top500.txt: top1 = 0.618\n",
      "3_score.txt vs. 3_score_top500.txt: top1 = 0.57\n",
      "4_score.txt vs. 4_score_top500.txt: top1 = 0.608\n",
      "5_score.txt vs. 5_score_top500.txt: top1 = 0.59\n",
      "6_score.txt vs. 6_score_top500.txt: top1 = 0.582\n",
      "7_score.txt vs. 7_score_top500.txt: top1 = 0.586\n",
      "8_score.txt vs. 8_score_top500.txt: top1 = 0.594\n",
      "9_score.txt vs. 9_score_top500.txt: top1 = 0.586\n",
      "10_score.txt vs. 10_score_top500.txt: top1 = 0.612\n",
      "11_score.txt vs. 11_score_top500.txt: top1 = 0.568\n",
      "12_score.txt vs. 12_score_top500.txt: top1 = 0.612\n",
      "13_score.txt vs. 13_score_top500.txt: top1 = 0.592\n",
      "14_score.txt vs. 14_score_top500.txt: top1 = 0.598\n",
      "15_score.txt vs. 15_score_top500.txt: top1 = 0.606\n",
      "16_score.txt vs. 16_score_top500.txt: top1 = 0.594\n",
      "17_score.txt vs. 17_score_top500.txt: top1 = 0.59\n",
      "18_score.txt vs. 18_score_top500.txt: top1 = 0.6\n",
      "19_score.txt vs. 19_score_top500.txt: top1 = 0.596\n",
      "20_score.txt vs. 20_score_top500.txt: top1 = 0.602\n",
      "21_score.txt vs. 21_score_top500.txt: top1 = 0.572\n",
      "22_score.txt vs. 22_score_top500.txt: top1 = 0.588\n",
      "23_score.txt vs. 23_score_top500.txt: top1 = 0.578\n",
      "24_score.txt vs. 24_score_top500.txt: top1 = 0.594\n",
      "25_score.txt vs. 25_score_top500.txt: top1 = 0.578\n",
      "26_score.txt vs. 26_score_top500.txt: top1 = 0.598\n",
      "27_score.txt vs. 27_score_top500.txt: top1 = 0.602\n",
      "28_score.txt vs. 28_score_top500.txt: top1 = 0.586\n",
      "29_score.txt vs. 29_score_top500.txt: top1 = 0.598\n"
     ]
    }
   ],
   "source": [
    "acc_list = []\n",
    "for i in range(30):\n",
    "    f1 = str(i)+'_score.txt'\n",
    "    f2 = str(i)+\"_score_top500.txt\"\n",
    "    gt = torch.tensor([list(gList[f1].values())])\n",
    "    gt = torch.transpose(y,0,1)\n",
    "    pred = torch.tensor(kgList[f2]['top'])\n",
    "    n = 1\n",
    "    acc = topN(n,pred,gt)\n",
    "    acc_list.append(acc)\n",
    "    print(\"{} vs. {}: top{} = {}\".format(f1,f2,n,acc))"
   ]
  },
  {
   "cell_type": "code",
   "execution_count": 85,
   "id": "2806bbf9",
   "metadata": {},
   "outputs": [
    {
     "data": {
      "text/plain": [
       "tensor(0.6169)"
      ]
     },
     "execution_count": 85,
     "metadata": {},
     "output_type": "execute_result"
    }
   ],
   "source": [
    "torch.mean(torch.tensor(acc_list))"
   ]
  },
  {
   "cell_type": "code",
   "execution_count": 91,
   "id": "f21eb739",
   "metadata": {},
   "outputs": [],
   "source": [
    "# Working on com\n",
    "file_path = \".\\\\data\\\\youtube\\\\com-youtube_score.txt\"\n",
    "file = \"com-youtube_score.txt\"\n",
    "with open(file_path,'r') as f:\n",
    "    content = f.readlines()\n",
    "    for line in content:\n",
    "        node_score = line[:-1].split()\n",
    "    gList[file][int(node_score[0][:-1])] = float(node_score[1])"
   ]
  },
  {
   "cell_type": "code",
   "execution_count": 99,
   "id": "96632022",
   "metadata": {},
   "outputs": [],
   "source": [
    "file_path = \".\\\\data\\\\youtube\\\\com-youtube_score_top113489.txt\"\n",
    "file = \"com-youtube_score_top113489.txt\"\n",
    "with open(file_path,'r') as f:\n",
    "    content = f.readlines()\n",
    "    kgList[file] = dict()\n",
    "    kgList[file]['top'] = []\n",
    "    kgList[file]['time'] = float(content[10][:-1].split()[2])\n",
    "    #print(kgList[file]['time'])\n",
    "    #print(content[15][:-1].split())\n",
    "    for i in range(113489):\n",
    "        if content[15+i][:-1].split()[0] != '?':\n",
    "            kgList[file]['top'].append(int(content[15+i][:-1].split()[1]))\n",
    "        else:\n",
    "            kgList[file]['top'].append(int(content[15+i][:-1].split()[2]))"
   ]
  },
  {
   "cell_type": "code",
   "execution_count": 110,
   "id": "476782d2",
   "metadata": {},
   "outputs": [
    {
     "name": "stdout",
     "output_type": "stream",
     "text": [
      "com-youtube_score.txt vs. com-youtube_score_top113489.txt: top10 = 0.7858\n"
     ]
    }
   ],
   "source": [
    "f1 = 'com-youtube_score.txt'\n",
    "f2 = \"com-youtube_score_top113489.txt\"\n",
    "gt = torch.tensor([list(gList[f1].values())])\n",
    "gt = torch.transpose(y,0,1)\n",
    "pred = torch.tensor(kgList[f2]['top'])\n",
    "n = 10\n",
    "acc = topN(n,pred,gt)\n",
    "print(\"{} vs. {}: top{} = {}\".format(f1,f2,n,acc))"
   ]
  },
  {
   "cell_type": "code",
   "execution_count": null,
   "id": "6bac24bc",
   "metadata": {},
   "outputs": [],
   "source": []
  }
 ],
 "metadata": {
  "kernelspec": {
   "display_name": "Python 3 (ipykernel)",
   "language": "python",
   "name": "python3"
  },
  "language_info": {
   "codemirror_mode": {
    "name": "ipython",
    "version": 3
   },
   "file_extension": ".py",
   "mimetype": "text/x-python",
   "name": "python",
   "nbconvert_exporter": "python",
   "pygments_lexer": "ipython3",
   "version": "3.7.16"
  }
 },
 "nbformat": 4,
 "nbformat_minor": 5
}
